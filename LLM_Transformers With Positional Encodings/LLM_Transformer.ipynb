{
 "cells": [
  {
   "cell_type": "code",
   "execution_count": 2,
   "metadata": {},
   "outputs": [],
   "source": [
    "%load_ext autoreload\n",
    "%autoreload 2"
   ]
  },
  {
   "cell_type": "code",
   "execution_count": 56,
   "metadata": {},
   "outputs": [],
   "source": [
    "import re\n",
    "import torch\n",
    "import numpy as np\n",
    "from code_15780 import *\n",
    "import matplotlib.pyplot as plt\n",
    "from tqdm.notebook import tqdm  # optional, I use this for monitoring progress\n",
    "from torch.nn import Module, Parameter, ModuleList\n",
    "import torch.nn.functional as F"
   ]
  },
  {
   "cell_type": "code",
   "execution_count": 27,
   "metadata": {},
   "outputs": [
    {
     "name": "stdout",
     "output_type": "stream",
     "text": [
      "3984.0\n"
     ]
    }
   ],
   "source": [
    "### Load the data with a tokenizer (tokenizing it twice, not that efficient)\n",
    "tokenizer = SimpleTokenizer(\"pg100.txt\", lowercase=False)\n",
    "with open(\"pg100.txt\", \"rt\",encoding=\"utf8\") as f:\n",
    "    content = f.read()\n",
    "\n",
    "# for simplicity, force train/test to be an even multiple of seq_len\n",
    "seq_len = 256\n",
    "tokens = tokenizer.encode(content)\n",
    "tokens_train = tokens[:int(len(tokens)*0.7)]\n",
    "tokens_train = tokens_train[:(len(tokens_train)//seq_len)*seq_len]\n",
    "\n",
    "tokens_val = tokens[int(len(tokens)*0.7):]\n",
    "tokens_val = tokens_val[:(len(tokens_val)//seq_len)*seq_len]"
   ]
  },
  {
   "cell_type": "code",
   "execution_count": 93,
   "metadata": {},
   "outputs": [],
   "source": [
    "class TransformerBlockPreNorm(Module):\n",
    "    \"\"\" Single transformer block with attention plus a feedforward network\"\"\"\n",
    "    def __init__(self, d,heads,d_ff):\n",
    "        super().__init__()\n",
    "        self.attn=SelfAttention(d, heads)\n",
    "        self.w1=Linear(d,d_ff)\n",
    "        self.w2=Linear(d_ff,d)\n",
    "\n",
    "        self.norm1=LayerNorm(d)\n",
    "        self.norm2=LayerNorm(d)\n",
    "\n",
    "        self.relu=ReLU()\n",
    "\n",
    "    def forward(self,X,mask=None):\n",
    "        Z=X+self.attn(self.norm1(X))\n",
    "        Y=Z+self.w2(self.relu(self.w1(self.norm2(Z))))\n",
    "        return Y\n"
   ]
  },
  {
   "cell_type": "code",
   "execution_count": 57,
   "metadata": {},
   "outputs": [
    {
     "name": "stdout",
     "output_type": "stream",
     "text": [
      "0\n",
      "2\n",
      "4\n",
      "6\n",
      "8\n"
     ]
    }
   ],
   "source": [
    "layerList=[]\n",
    "for i in range(2):\n",
    "    layerList.append(TransformerBlockPreNorm(128,8,1024))\n",
    "layerList\n",
    "#a=[TransformerBlockPreNorm(128,8,1024) for _ in range(2)]\n",
    "#a\n",
    "total_batches=tokens_train.shape[0]//seq_len\n",
    "t=tokens_train.reshape(total_batches,seq_len)\n",
    "t=t[:((t.shape[0]//5)*5),:]\n",
    "t.shape\n",
    "# t.shape\n",
    "\n",
    "#a==layerList"
   ]
  },
  {
   "cell_type": "code",
   "execution_count": 151,
   "metadata": {},
   "outputs": [],
   "source": [
    "class LanguageModel(Module):\n",
    "    \"\"\" Complete language model that runs:\n",
    "        - Embedding\n",
    "        - Positional Encoding\n",
    "        - Tranformer block layers\n",
    "        - Output linear layer\n",
    "    \"\"\"\n",
    "    def __init__(self, hidden_dim,seq_len,heads,ffn_dim,num_layers,vocab_size):\n",
    "        super().__init__()\n",
    "        self.hidden_dim = hidden_dim\n",
    "        self.embed= Embedding(vocab_size, hidden_dim)\n",
    "        self.position = PositionalEncoding(hidden_dim)\n",
    "        layerList=[]\n",
    "        for i in range(num_layers):\n",
    "            layerList.append(TransformerBlockPreNorm(hidden_dim,heads,ffn_dim))\n",
    "        self.layers=ModuleList(layerList)\n",
    "        self.norm=LayerNorm(hidden_dim)\n",
    "\n",
    "        self.last_layer=Linear(hidden_dim, vocab_size)\n",
    "\n",
    "    def forward(self,X):\n",
    "        B,T=X.shape[0],X.shape[1]\n",
    "        \n",
    "        X_hidden=torch.zeros(B,T,self.hidden_dim)\n",
    "        for i in range(B):\n",
    "            X_hidden[i] = self.embed(X[i])\n",
    "        \n",
    "        X_hidden = self.position(X_hidden)\n",
    "        \n",
    "\n",
    "        mask=torch.tril(torch.ones(T,T))\n",
    "        mask=mask.masked_fill(mask==0,float('-inf'))\n",
    "\n",
    "        for layer in self.layers:\n",
    "            X_hidden=layer(X_hidden,mask)\n",
    "        \n",
    "        #print((self.norm(X_hidden)).shape)\n",
    "        return self.last_layer(self.norm(X_hidden))\n",
    "\n",
    "        "
   ]
  },
  {
   "cell_type": "code",
   "execution_count": 152,
   "metadata": {},
   "outputs": [],
   "source": [
    "def epoch_transformer_lm(model, tokens, seq_len, opt=None, batch_size=5, verbose=True):\n",
    "    \"\"\" Run an epoch of the linear language model on the sequence of tokens.  \n",
    "    If opt = None then just compute the loss, otherwise update the parameters\n",
    "    using the optimizer.\n",
    "\n",
    "    Args:\n",
    "        model: torch.Module - PyTorch LanguageModel instance \n",
    "        tokens: torch.tensor (int64) - sequence of tokens to eval/train on\n",
    "        seq_len: sequence length to evaluate in Transformer blocks\n",
    "        batch_size: int - number of elements in minibatch\n",
    "        verbose: bool - flag if you want to print debug info\n",
    "\n",
    "    Returns:\n",
    "        losses: torch.tensor (float) - losses on each minibatch\n",
    "    \"\"\"\n",
    "    losses=[]\n",
    "    big_batch=seq_len*batch_size\n",
    "    num_batches=tokens.shape[0]//big_batch\n",
    "    for i in range(num_batches):\n",
    "        #print(set.shape,num_batches)\n",
    "        t=tokens[i*big_batch:(i+1)*big_batch]\n",
    "        t=t.reshape(batch_size,seq_len)\n",
    "        X=t[:,0:seq_len-1]\n",
    "        targets=t[:,1:seq_len]\n",
    "        H=model(X)\n",
    "        #print(H.shape,targets.shape)\n",
    "        #logits_pred = H[:,:-1,:]\n",
    "        #logits_pred=logits_pred.reshape(-1,logits_pred.shape[-1])\n",
    "        #targets=targets.reshape(-1)\n",
    "        loss=F.cross_entropy(H.reshape(-1,H.size(-1)),targets.reshape(-1))\n",
    "        losses.append(loss)\n",
    "        if opt is not None:\n",
    "            loss.backward()\n",
    "            opt.step()\n",
    "            opt.zero_grad()\n",
    "        \n",
    "        if verbose and i%10==0:\n",
    "            print(f\"Batch {i+1}/{num_batches},Loss: {loss.item()}\")\n",
    "    return losses"
   ]
  },
  {
   "cell_type": "code",
   "execution_count": 60,
   "metadata": {},
   "outputs": [
    {
     "data": {
      "text/plain": [
       "796"
      ]
     },
     "execution_count": 60,
     "metadata": {},
     "output_type": "execute_result"
    }
   ],
   "source": [
    "tokens_train.shape[0]//(5*seq_len)"
   ]
  },
  {
   "cell_type": "code",
   "execution_count": 153,
   "metadata": {},
   "outputs": [
    {
     "data": {
      "text/plain": [
       "9892554"
      ]
     },
     "execution_count": 153,
     "metadata": {},
     "output_type": "execute_result"
    }
   ],
   "source": [
    "model = LanguageModel(128, seq_len, 8, 1024, 5, tokenizer.vocab_size)\n",
    "#opt = optim.Adam(model.parameters(), lr=1e-3)\n",
    "opt = SGD(model.parameters(), lr=0.5)\n",
    "sum(p.numel() for p in model.parameters())\n"
   ]
  },
  {
   "cell_type": "code",
   "execution_count": 148,
   "metadata": {},
   "outputs": [
    {
     "name": "stdout",
     "output_type": "stream",
     "text": [
      "torch.Size([5, 256, 128])\n",
      "torch.Size([5, 256, 32074])\n"
     ]
    }
   ],
   "source": [
    "model = LanguageModel(128, seq_len, 8, 1024, 5, tokenizer.vocab_size)\n",
    "batch_size=5\n",
    "X=tokens_train[:seq_len*batch_size]\n",
    "X=X.reshape(batch_size,seq_len)\n",
    "Y=model(X)\n",
    "print(Y.shape)\n"
   ]
  },
  {
   "cell_type": "code",
   "execution_count": 154,
   "metadata": {},
   "outputs": [
    {
     "name": "stdout",
     "output_type": "stream",
     "text": [
      "Batch 1/796,Loss: 11.636185646057129\n",
      "Batch 11/796,Loss: 8.95263671875\n",
      "Batch 21/796,Loss: 8.701142311096191\n",
      "Batch 31/796,Loss: 7.10892915725708\n",
      "Batch 41/796,Loss: 6.945906162261963\n",
      "Batch 51/796,Loss: 8.525001525878906\n",
      "Batch 61/796,Loss: 6.802900791168213\n",
      "Batch 71/796,Loss: 6.738738536834717\n",
      "Batch 81/796,Loss: 6.963328838348389\n",
      "Batch 91/796,Loss: 7.102431297302246\n",
      "Batch 101/796,Loss: 6.498901844024658\n",
      "Batch 111/796,Loss: 6.607216835021973\n",
      "Batch 121/796,Loss: 6.31956148147583\n",
      "Batch 131/796,Loss: 6.482929706573486\n",
      "Batch 141/796,Loss: 6.4453301429748535\n",
      "Batch 151/796,Loss: 6.071374893188477\n",
      "Batch 161/796,Loss: 6.413963317871094\n",
      "Batch 171/796,Loss: 6.580532550811768\n",
      "Batch 181/796,Loss: 6.388773441314697\n",
      "Batch 191/796,Loss: 6.374098300933838\n",
      "Batch 201/796,Loss: 6.002268314361572\n",
      "Batch 211/796,Loss: 6.891448974609375\n",
      "Batch 221/796,Loss: 6.216148376464844\n",
      "Batch 231/796,Loss: 6.010972499847412\n",
      "Batch 241/796,Loss: 6.20069694519043\n",
      "Batch 251/796,Loss: 6.2750349044799805\n",
      "Batch 261/796,Loss: 6.022516250610352\n",
      "Batch 271/796,Loss: 6.364807605743408\n",
      "Batch 281/796,Loss: 5.685173988342285\n",
      "Batch 291/796,Loss: 6.355314254760742\n",
      "Batch 301/796,Loss: 6.341970920562744\n",
      "Batch 311/796,Loss: 6.056002616882324\n",
      "Batch 321/796,Loss: 5.964918613433838\n",
      "Batch 331/796,Loss: 6.305527687072754\n",
      "Batch 341/796,Loss: 6.051844596862793\n",
      "Batch 351/796,Loss: 5.92173433303833\n",
      "Batch 361/796,Loss: 6.000822067260742\n",
      "Batch 371/796,Loss: 5.918704986572266\n",
      "Batch 381/796,Loss: 6.220662593841553\n",
      "Batch 391/796,Loss: 6.098008632659912\n",
      "Batch 401/796,Loss: 5.604928970336914\n",
      "Batch 411/796,Loss: 5.609155178070068\n",
      "Batch 421/796,Loss: 6.170298099517822\n",
      "Batch 431/796,Loss: 6.067089080810547\n",
      "Batch 441/796,Loss: 5.639072418212891\n",
      "Batch 451/796,Loss: 5.887025833129883\n",
      "Batch 461/796,Loss: 5.886869430541992\n",
      "Batch 471/796,Loss: 5.869411945343018\n",
      "Batch 481/796,Loss: 5.842249393463135\n",
      "Batch 491/796,Loss: 5.280409812927246\n",
      "Batch 501/796,Loss: 6.10312557220459\n",
      "Batch 511/796,Loss: 5.671969890594482\n",
      "Batch 521/796,Loss: 5.761470794677734\n",
      "Batch 531/796,Loss: 5.953434944152832\n",
      "Batch 541/796,Loss: 5.933040618896484\n",
      "Batch 551/796,Loss: 5.456450939178467\n",
      "Batch 561/796,Loss: 5.98376989364624\n",
      "Batch 571/796,Loss: 5.662485599517822\n",
      "Batch 581/796,Loss: 6.079281330108643\n",
      "Batch 591/796,Loss: 5.583591938018799\n",
      "Batch 601/796,Loss: 5.40704345703125\n",
      "Batch 611/796,Loss: 5.699825763702393\n",
      "Batch 621/796,Loss: 5.810797691345215\n",
      "Batch 631/796,Loss: 5.816421985626221\n",
      "Batch 641/796,Loss: 5.553807258605957\n",
      "Batch 651/796,Loss: 5.203874588012695\n",
      "Batch 661/796,Loss: 5.62968111038208\n",
      "Batch 671/796,Loss: 5.575780868530273\n",
      "Batch 681/796,Loss: 5.510350704193115\n",
      "Batch 691/796,Loss: 5.824304580688477\n",
      "Batch 701/796,Loss: 5.67942476272583\n",
      "Batch 711/796,Loss: 5.582956790924072\n",
      "Batch 721/796,Loss: 5.683444976806641\n",
      "Batch 731/796,Loss: 5.309602737426758\n",
      "Batch 741/796,Loss: 5.168211460113525\n",
      "Batch 751/796,Loss: 5.539341926574707\n",
      "Batch 761/796,Loss: 5.3145246505737305\n",
      "Batch 771/796,Loss: 6.0662336349487305\n",
      "Batch 781/796,Loss: 5.764837265014648\n",
      "Batch 791/796,Loss: 5.6822075843811035\n",
      "Batch 1/341,Loss: 5.702795505523682\n",
      "Batch 11/341,Loss: 5.435938358306885\n",
      "Batch 21/341,Loss: 5.2252397537231445\n",
      "Batch 31/341,Loss: 5.6369524002075195\n",
      "Batch 41/341,Loss: 5.721019268035889\n",
      "Batch 51/341,Loss: 5.6563897132873535\n",
      "Batch 61/341,Loss: 5.6303815841674805\n",
      "Batch 71/341,Loss: 5.662494659423828\n",
      "Batch 81/341,Loss: 5.650731563568115\n",
      "Batch 91/341,Loss: 5.961587429046631\n",
      "Batch 101/341,Loss: 6.259645462036133\n",
      "Batch 111/341,Loss: 5.805297374725342\n",
      "Batch 121/341,Loss: 5.92295503616333\n",
      "Batch 131/341,Loss: 5.863408088684082\n",
      "Batch 141/341,Loss: 5.774168014526367\n",
      "Batch 151/341,Loss: 5.860294342041016\n",
      "Batch 161/341,Loss: 5.852484226226807\n",
      "Batch 171/341,Loss: 6.198324203491211\n",
      "Batch 181/341,Loss: 5.843637466430664\n",
      "Batch 191/341,Loss: 5.8621110916137695\n",
      "Batch 201/341,Loss: 5.579293251037598\n",
      "Batch 211/341,Loss: 5.756243705749512\n",
      "Batch 221/341,Loss: 5.980287075042725\n",
      "Batch 231/341,Loss: 5.762662887573242\n",
      "Batch 241/341,Loss: 5.3435797691345215\n",
      "Batch 251/341,Loss: 5.087165355682373\n",
      "Batch 261/341,Loss: 5.626158714294434\n",
      "Batch 271/341,Loss: 5.707644462585449\n",
      "Batch 281/341,Loss: 5.7188849449157715\n",
      "Batch 291/341,Loss: 5.899527072906494\n",
      "Batch 301/341,Loss: 5.682708263397217\n",
      "Batch 311/341,Loss: 6.135776996612549\n",
      "Batch 321/341,Loss: 6.804784774780273\n",
      "Batch 331/341,Loss: 6.812798500061035\n",
      "Batch 341/341,Loss: 8.261066436767578\n",
      "tensor(5.8519)\n"
     ]
    }
   ],
   "source": [
    "losses = epoch_transformer_lm(model, tokens_train, 256, opt=opt, batch_size=5, verbose=True)\n",
    "with torch.no_grad():\n",
    "    val_losses = epoch_transformer_lm(model, tokens_val, 256)\n",
    "print(torch.mean(torch.tensor(val_losses)))"
   ]
  },
  {
   "cell_type": "code",
   "execution_count": 157,
   "metadata": {},
   "outputs": [
    {
     "data": {
      "text/plain": [
       "[<matplotlib.lines.Line2D at 0x1f1cf29d1f0>]"
      ]
     },
     "execution_count": 157,
     "metadata": {},
     "output_type": "execute_result"
    },
    {
     "data": {
      "image/png": "[encoded data removed]",
      "text/plain": [
       "<Figure size 640x480 with 1 Axes>"
      ]
     },
     "metadata": {},
     "output_type": "display_data"
    }
   ],
   "source": [
    "plt.plot(np.arange(0,len(losses)*batch_size,batch_size),ema(torch.tensor(losses), beta=0.9))\n",
    "plt.plot(np.arange(0,len(val_losses)*batch_size,batch_size),ema(torch.tensor(val_losses), beta=0.9))"
   ]
  }
 ],
 "metadata": {
  "kernelspec": {
   "display_name": "15780",
   "language": "python",
   "name": "python3"
  },
  "language_info": {
   "codemirror_mode": {
    "name": "ipython",
    "version": 3
   },
   "file_extension": ".py",
   "mimetype": "text/x-python",
   "name": "python",
   "nbconvert_exporter": "python",
   "pygments_lexer": "ipython3",
   "version": "3.12.2"
  }
 },
 "nbformat": 4,
 "nbformat_minor": 2
}
