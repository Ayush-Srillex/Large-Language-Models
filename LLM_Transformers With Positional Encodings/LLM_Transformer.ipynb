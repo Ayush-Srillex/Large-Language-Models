{
 "cells": [
  {
   "cell_type": "code",
   "execution_count": 1,
   "metadata": {},
   "outputs": [],
   "source": [
    "%load_ext autoreload\n",
    "%autoreload 2"
   ]
  },
  {
   "cell_type": "code",
   "execution_count": 2,
   "metadata": {},
   "outputs": [],
   "source": [
    "import re\n",
    "import torch\n",
    "import numpy as np\n",
    "from code_15780 import *\n",
    "import matplotlib.pyplot as plt\n",
    "from tqdm.notebook import tqdm  # optional, I use this for monitoring progress\n",
    "from torch.nn import Module, Parameter, ModuleList\n",
    "import torch.nn.functional as F"
   ]
  },
  {
   "cell_type": "code",
   "execution_count": 3,
   "metadata": {},
   "outputs": [],
   "source": [
    "### Load the data with a tokenizer (tokenizing it twice, not that efficient)\n",
    "tokenizer = SimpleTokenizer(\"pg100.txt\", lowercase=False)\n",
    "with open(\"pg100.txt\", \"rt\",encoding=\"utf8\") as f:\n",
    "    content = f.read()\n",
    "\n",
    "# for simplicity, force train/test to be an even multiple of seq_len\n",
    "seq_len = 256\n",
    "tokens = tokenizer.encode(content)\n",
    "tokens_train = tokens[:int(len(tokens)*0.7)]\n",
    "tokens_train = tokens_train[:(len(tokens_train)//seq_len)*seq_len]\n",
    "\n",
    "tokens_val = tokens[int(len(tokens)*0.7):]\n",
    "tokens_val = tokens_val[:(len(tokens_val)//seq_len)*seq_len]"
   ]
  },
  {
   "cell_type": "code",
   "execution_count": 4,
   "metadata": {},
   "outputs": [],
   "source": [
    "class TransformerBlockPreNorm(Module):\n",
    "    \"\"\" Single transformer block with attention plus a feedforward network\"\"\"\n",
    "    def __init__(self, d,heads,d_ff):\n",
    "        super().__init__()\n",
    "        self.attn=SelfAttention(d, heads)\n",
    "        self.w1=Linear(d,d_ff)\n",
    "        self.w2=Linear(d_ff,d)\n",
    "\n",
    "        self.norm1=LayerNorm(d)\n",
    "        self.norm2=LayerNorm(d)\n",
    "\n",
    "        self.relu=ReLU()\n",
    "\n",
    "    def forward(self,X,mask=None,use_kv_cache=False):\n",
    "        Z=X+self.attn(self.norm1(X),mask,use_kv_cache)\n",
    "        Y=Z+self.w2(self.relu(self.w1(self.norm2(Z))))\n",
    "        return Y\n"
   ]
  },
  {
   "cell_type": "code",
   "execution_count": 5,
   "metadata": {},
   "outputs": [],
   "source": [
    "class LanguageModel(Module):\n",
    "    \"\"\" Complete language model that runs:\n",
    "        - Embedding\n",
    "        - Positional Encoding\n",
    "        - Tranformer block layers\n",
    "        - Output linear layer\n",
    "    \"\"\"\n",
    "    def __init__(self, hidden_dim,seq_len,heads,ffn_dim,num_layers,vocab_size):\n",
    "        super().__init__()\n",
    "        self.hidden_dim = hidden_dim\n",
    "        self.embed= Embedding(vocab_size, hidden_dim)\n",
    "        self.position = PositionalEncoding(hidden_dim)\n",
    "        layerList=[]\n",
    "        for i in range(num_layers):\n",
    "            layerList.append(TransformerBlockPreNorm(hidden_dim,heads,ffn_dim))\n",
    "        self.layers=ModuleList(layerList)\n",
    "        self.norm=LayerNorm(hidden_dim)\n",
    "\n",
    "        self.last_layer=Linear(hidden_dim, vocab_size)\n",
    "\n",
    "    def forward(self,X,use_kv_cache=False):\n",
    "        B,T=X.shape[0],X.shape[1]\n",
    "        \n",
    "        X_hidden=torch.zeros(B,T,self.hidden_dim)\n",
    "        for i in range(B):\n",
    "            X_hidden[i] = self.embed(X[i])\n",
    "        \n",
    "        X_hidden = self.position(X_hidden)\n",
    "        \n",
    "\n",
    "        mask=torch.tril(torch.ones(T,T))\n",
    "        mask=mask.masked_fill(mask==0,float('-inf'))\n",
    "\n",
    "        for layer in self.layers:\n",
    "            X_hidden=layer(X_hidden,mask,use_kv_cache)\n",
    "        \n",
    "        return self.last_layer(self.norm(X_hidden))\n",
    "\n",
    "        "
   ]
  },
  {
   "cell_type": "code",
   "execution_count": 6,
   "metadata": {},
   "outputs": [],
   "source": [
    "def epoch_transformer_lm(model, tokens, seq_len, opt=None, batch_size=5, verbose=True,use_kv_cache=False):\n",
    "    \"\"\" Run an epoch of the linear language model on the sequence of tokens.  \n",
    "    If opt = None then just compute the loss, otherwise update the parameters\n",
    "    using the optimizer.\n",
    "\n",
    "    Args:\n",
    "        model: torch.Module - PyTorch LanguageModel instance \n",
    "        tokens: torch.tensor (int64) - sequence of tokens to eval/train on\n",
    "        seq_len: sequence length to evaluate in Transformer blocks\n",
    "        batch_size: int - number of elements in minibatch\n",
    "        verbose: bool - flag if you want to print debug info\n",
    "\n",
    "    Returns:\n",
    "        losses: torch.tensor (float) - losses on each minibatch\n",
    "    \"\"\"\n",
    "    losses=[]\n",
    "    big_batch=seq_len*batch_size\n",
    "    num_batches=tokens.shape[0]//big_batch\n",
    "    for i in range(num_batches):\n",
    "        #print(set.shape,num_batches)\n",
    "        t=tokens[i*big_batch:(i+1)*big_batch]\n",
    "        t=t.reshape(batch_size,seq_len)\n",
    "        X=t[:,0:seq_len-1]\n",
    "        targets=t[:,1:seq_len]\n",
    "        H=model(X,use_kv_cache)\n",
    "        loss=F.cross_entropy(H.reshape(-1,H.size(-1)),targets.reshape(-1))\n",
    "        losses.append(loss)\n",
    "        if opt is not None:\n",
    "            loss.backward()\n",
    "            opt.step()\n",
    "            opt.zero_grad()\n",
    "        \n",
    "        if verbose and i%10==0:\n",
    "            print(f\"Batch {i+1}/{num_batches},Loss: {loss.item()}\")\n",
    "    return losses"
   ]
  },
  {
   "cell_type": "code",
   "execution_count": 7,
   "metadata": {},
   "outputs": [],
   "source": [
    "def sample_transformer_naive(model, tokens, max_context, num_tokens, temperature=0.6,use_kv_cache=True):\n",
    "    for i in range(num_tokens):\n",
    "        probs = torch.softmax(model(tokens[None,i:i+1],use_kv_cache)[0,-1] / temperature,-1)\n",
    "        tokens = torch.cat([tokens, torch.multinomial(probs, 1)])\n",
    "    return tokens"
   ]
  },
  {
   "cell_type": "code",
   "execution_count": 14,
   "metadata": {},
   "outputs": [
    {
     "data": {
      "text/plain": [
       "9892554"
      ]
     },
     "execution_count": 14,
     "metadata": {},
     "output_type": "execute_result"
    }
   ],
   "source": [
    "model = LanguageModel(128, seq_len, 8, 1024, 5, tokenizer.vocab_size)\n",
    "#opt = optim.Adam(model.parameters(), lr=1e-3)\n",
    "#print(model.parameters)\n",
    "#opt = SGD(model.parameters(), lr=0.5)\n",
    "opt= Adam(model.parameters(),lr=1e-3)\n",
    "sum(p.numel() for p in model.parameters())\n"
   ]
  },
  {
   "cell_type": "code",
   "execution_count": 9,
   "metadata": {},
   "outputs": [
    {
     "name": "stdout",
     "output_type": "stream",
     "text": [
      "Batch 1/796,Loss: 11.52918529510498\n",
      "Batch 11/796,Loss: 7.730559825897217\n",
      "Batch 21/796,Loss: 7.048802852630615\n",
      "Batch 31/796,Loss: 6.150516033172607\n",
      "Batch 41/796,Loss: 6.041606426239014\n",
      "Batch 51/796,Loss: 6.156698226928711\n",
      "Batch 61/796,Loss: 5.9135284423828125\n",
      "Batch 71/796,Loss: 5.471536159515381\n",
      "Batch 81/796,Loss: 5.831430912017822\n",
      "Batch 91/796,Loss: 6.1707763671875\n",
      "Batch 101/796,Loss: 5.53584098815918\n",
      "Batch 111/796,Loss: 5.892838478088379\n",
      "Batch 121/796,Loss: 5.585012435913086\n",
      "Batch 131/796,Loss: 5.7941765785217285\n",
      "Batch 141/796,Loss: 5.750292778015137\n",
      "Batch 151/796,Loss: 5.276560306549072\n",
      "Batch 161/796,Loss: 5.594361782073975\n",
      "Batch 171/796,Loss: 5.847501277923584\n",
      "Batch 181/796,Loss: 5.634026527404785\n",
      "Batch 191/796,Loss: 5.736670017242432\n",
      "Batch 201/796,Loss: 5.397855758666992\n",
      "Batch 211/796,Loss: 6.477831840515137\n",
      "Batch 221/796,Loss: 5.5889692306518555\n",
      "Batch 231/796,Loss: 5.431679725646973\n",
      "Batch 241/796,Loss: 5.73720645904541\n",
      "Batch 251/796,Loss: 5.712494850158691\n",
      "Batch 261/796,Loss: 5.367947101593018\n",
      "Batch 271/796,Loss: 5.815614223480225\n",
      "Batch 281/796,Loss: 5.286458492279053\n",
      "Batch 291/796,Loss: 5.778801441192627\n",
      "Batch 301/796,Loss: 5.808530330657959\n",
      "Batch 311/796,Loss: 5.7196946144104\n",
      "Batch 321/796,Loss: 5.496217250823975\n",
      "Batch 331/796,Loss: 5.901544094085693\n",
      "Batch 341/796,Loss: 5.407341003417969\n",
      "Batch 351/796,Loss: 5.432045936584473\n",
      "Batch 361/796,Loss: 5.561866760253906\n",
      "Batch 371/796,Loss: 5.429722309112549\n",
      "Batch 381/796,Loss: 5.7462873458862305\n",
      "Batch 391/796,Loss: 5.635741233825684\n",
      "Batch 401/796,Loss: 5.228456020355225\n",
      "Batch 411/796,Loss: 5.104096412658691\n",
      "Batch 421/796,Loss: 5.595843315124512\n",
      "Batch 431/796,Loss: 5.5700178146362305\n",
      "Batch 441/796,Loss: 5.096090793609619\n",
      "Batch 451/796,Loss: 5.5102458000183105\n",
      "Batch 461/796,Loss: 5.359915256500244\n",
      "Batch 471/796,Loss: 5.331276893615723\n",
      "Batch 481/796,Loss: 5.433011054992676\n",
      "Batch 491/796,Loss: 4.938844203948975\n",
      "Batch 501/796,Loss: 5.8928632736206055\n",
      "Batch 511/796,Loss: 5.360140323638916\n",
      "Batch 521/796,Loss: 5.3462300300598145\n",
      "Batch 531/796,Loss: 5.459164142608643\n",
      "Batch 541/796,Loss: 5.484127521514893\n",
      "Batch 551/796,Loss: 5.008939743041992\n",
      "Batch 561/796,Loss: 5.575719356536865\n",
      "Batch 571/796,Loss: 5.329497337341309\n",
      "Batch 581/796,Loss: 5.519323825836182\n",
      "Batch 591/796,Loss: 5.193547248840332\n",
      "Batch 601/796,Loss: 5.002595901489258\n",
      "Batch 611/796,Loss: 5.380034446716309\n",
      "Batch 621/796,Loss: 5.421018600463867\n",
      "Batch 631/796,Loss: 5.3852219581604\n",
      "Batch 641/796,Loss: 5.3233642578125\n",
      "Batch 651/796,Loss: 4.847726345062256\n",
      "Batch 661/796,Loss: 5.326635837554932\n",
      "Batch 671/796,Loss: 5.291491985321045\n",
      "Batch 681/796,Loss: 5.240906715393066\n",
      "Batch 691/796,Loss: 5.58129358291626\n",
      "Batch 701/796,Loss: 5.376820087432861\n",
      "Batch 711/796,Loss: 5.249251842498779\n",
      "Batch 721/796,Loss: 5.33532190322876\n",
      "Batch 731/796,Loss: 4.919045448303223\n",
      "Batch 741/796,Loss: 4.679625511169434\n",
      "Batch 751/796,Loss: 5.241883277893066\n",
      "Batch 761/796,Loss: 5.026249408721924\n",
      "Batch 771/796,Loss: 5.734449863433838\n",
      "Batch 781/796,Loss: 5.428529739379883\n",
      "Batch 791/796,Loss: 5.256234645843506\n",
      "Batch 1/341,Loss: 5.263671875\n",
      "Batch 11/341,Loss: 4.966225624084473\n",
      "Batch 21/341,Loss: 4.934518814086914\n",
      "Batch 31/341,Loss: 5.220775127410889\n",
      "Batch 41/341,Loss: 5.399298191070557\n",
      "Batch 51/341,Loss: 5.312261581420898\n",
      "Batch 61/341,Loss: 5.197004318237305\n",
      "Batch 71/341,Loss: 5.349142074584961\n",
      "Batch 81/341,Loss: 5.368979454040527\n",
      "Batch 91/341,Loss: 5.533734321594238\n",
      "Batch 101/341,Loss: 5.852433681488037\n",
      "Batch 111/341,Loss: 5.463208198547363\n",
      "Batch 121/341,Loss: 5.482686519622803\n",
      "Batch 131/341,Loss: 5.510138511657715\n",
      "Batch 141/341,Loss: 5.415535926818848\n",
      "Batch 151/341,Loss: 5.530873775482178\n",
      "Batch 161/341,Loss: 5.397144794464111\n",
      "Batch 171/341,Loss: 5.736435890197754\n",
      "Batch 181/341,Loss: 5.512472629547119\n",
      "Batch 191/341,Loss: 5.585855007171631\n",
      "Batch 201/341,Loss: 5.18521785736084\n",
      "Batch 211/341,Loss: 5.448225498199463\n",
      "Batch 221/341,Loss: 5.3802103996276855\n",
      "Batch 231/341,Loss: 5.4215192794799805\n",
      "Batch 241/341,Loss: 5.0347137451171875\n",
      "Batch 251/341,Loss: 4.825715065002441\n",
      "Batch 261/341,Loss: 5.217945575714111\n",
      "Batch 271/341,Loss: 5.248310565948486\n",
      "Batch 281/341,Loss: 5.248608589172363\n",
      "Batch 291/341,Loss: 5.477557182312012\n",
      "Batch 301/341,Loss: 5.321214199066162\n",
      "Batch 311/341,Loss: 5.787912368774414\n",
      "Batch 321/341,Loss: 6.365503787994385\n",
      "Batch 331/341,Loss: 6.460722923278809\n",
      "Batch 341/341,Loss: 8.611634254455566\n",
      "tensor(5.4834)\n"
     ]
    }
   ],
   "source": [
    "losses = epoch_transformer_lm(model, tokens_train, 256, opt=opt, batch_size=5, verbose=True)\n",
    "with torch.no_grad():\n",
    "    val_losses = epoch_transformer_lm(model, tokens_val, 256)\n",
    "print(torch.mean(torch.tensor(val_losses)))"
   ]
  },
  {
   "cell_type": "code",
   "execution_count": 15,
   "metadata": {},
   "outputs": [
    {
     "data": {
      "text/plain": [
       "[<matplotlib.lines.Line2D at 0x193b8256000>]"
      ]
     },
     "execution_count": 15,
     "metadata": {},
     "output_type": "execute_result"
    },
    {
     "data": {
      "image/png": "[encoded data removed]",
      "text/plain": [
       "<Figure size 640x480 with 1 Axes>"
      ]
     },
     "metadata": {},
     "output_type": "display_data"
    }
   ],
   "source": [
    "batch_size=5\n",
    "plt.plot(np.arange(0,len(losses)*batch_size,batch_size),ema(torch.tensor(losses), beta=0.9))\n",
    "plt.plot(np.arange(0,len(val_losses)*batch_size,batch_size),ema(torch.tensor(val_losses), beta=0.9))"
   ]
  },
  {
   "cell_type": "code",
   "execution_count": 1,
   "metadata": {},
   "outputs": [
    {
     "ename": "NameError",
     "evalue": "name 'sample_transformer_naive' is not defined",
     "output_type": "error",
     "traceback": [
      "\u001b[1;31m---------------------------------------------------------------------------\u001b[0m",
      "\u001b[1;31mNameError\u001b[0m                                 Traceback (most recent call last)",
      "Cell \u001b[1;32mIn[1], line 1\u001b[0m\n\u001b[1;32m----> 1\u001b[0m t_out\u001b[38;5;241m=\u001b[39m\u001b[43msample_transformer_naive\u001b[49m(model,tokens[\u001b[38;5;241m100\u001b[39m:\u001b[38;5;241m102\u001b[39m],seq_len,\u001b[38;5;241m1000\u001b[39m,\u001b[38;5;241m0.6\u001b[39m,use_kv_cache\u001b[38;5;241m=\u001b[39m\u001b[38;5;28;01mTrue\u001b[39;00m)\n\u001b[0;32m      2\u001b[0m \u001b[38;5;28mprint\u001b[39m(tokenizer\u001b[38;5;241m.\u001b[39mdecode(t_out))\n",
      "\u001b[1;31mNameError\u001b[0m: name 'sample_transformer_naive' is not defined"
     ]
    }
   ],
   "source": [
    "t_out=sample_transformer_naive(model,tokens[100:102],seq_len,1000,0.6,use_kv_cache=True)\n",
    "print(tokenizer.decode(t_out))"
   ]
  }
 ],
 "metadata": {
  "kernelspec": {
   "display_name": "15780",
   "language": "python",
   "name": "python3"
  },
  "language_info": {
   "codemirror_mode": {
    "name": "ipython",
    "version": 3
   },
   "file_extension": ".py",
   "mimetype": "text/x-python",
   "name": "python",
   "nbconvert_exporter": "python",
   "pygments_lexer": "ipython3",
   "version": "3.12.2"
  }
 },
 "nbformat": 4,
 "nbformat_minor": 2
}
