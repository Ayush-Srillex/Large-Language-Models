{
 "cells": [
  {
   "cell_type": "code",
   "execution_count": 9,
   "metadata": {},
   "outputs": [
    {
     "name": "stdout",
     "output_type": "stream",
     "text": [
      "The autoreload extension is already loaded. To reload it, use:\n",
      "  %reload_ext autoreload\n"
     ]
    }
   ],
   "source": [
    "%load_ext autoreload\n",
    "%autoreload 2"
   ]
  },
  {
   "cell_type": "code",
   "execution_count": 10,
   "metadata": {},
   "outputs": [],
   "source": [
    "import re\n",
    "import torch\n",
    "import numpy as np\n",
    "from code_15780 import *\n",
    "import matplotlib.pyplot as plt\n",
    "from tqdm.notebook import tqdm  # optional, I use this for monitoring progress\n",
    "from torch.nn import Module, Parameter, ModuleList\n",
    "import torch.nn.functional as F"
   ]
  },
  {
   "cell_type": "code",
   "execution_count": 11,
   "metadata": {},
   "outputs": [],
   "source": [
    "### Load the data with a tokenizer (tokenizing it twice, not that efficient)\n",
    "tokenizer = SimpleTokenizer(\"pg100.txt\", lowercase=False)\n",
    "with open(\"pg100.txt\", \"rt\",encoding=\"utf8\") as f:\n",
    "    content = f.read()\n",
    "\n",
    "# for simplicity, force train/test to be an even multiple of seq_len\n",
    "seq_len = 256\n",
    "tokens = tokenizer.encode(content)\n",
    "tokens_train = tokens[:int(len(tokens)*0.7)]\n",
    "tokens_train = tokens_train[:(len(tokens_train)//seq_len)*seq_len]\n",
    "\n",
    "tokens_val = tokens[int(len(tokens)*0.7):]\n",
    "tokens_val = tokens_val[:(len(tokens_val)//seq_len)*seq_len]"
   ]
  },
  {
   "cell_type": "code",
   "execution_count": 12,
   "metadata": {},
   "outputs": [],
   "source": [
    "class TransformerBlockPreNorm(Module):\n",
    "    \"\"\" Single transformer block with attention plus a feedforward network\"\"\"\n",
    "    def __init__(self, d,heads,d_ff):\n",
    "        super().__init__()\n",
    "        self.attn=SelfAttention(d, heads)\n",
    "        self.w1=Linear(d,d_ff)\n",
    "        self.w2=Linear(d_ff,d)\n",
    "\n",
    "        self.norm1=LayerNorm(d)\n",
    "        self.norm2=LayerNorm(d)\n",
    "\n",
    "        self.relu=ReLU()\n",
    "\n",
    "    def forward(self,X,mask=None):\n",
    "        Z=X+self.attn(self.norm1(X))\n",
    "        Y=Z+self.w2(self.relu(self.w1(self.norm2(Z))))\n",
    "        return Y\n"
   ]
  },
  {
   "cell_type": "code",
   "execution_count": 13,
   "metadata": {},
   "outputs": [
    {
     "data": {
      "text/plain": [
       "torch.Size([3980, 256])"
      ]
     },
     "execution_count": 13,
     "metadata": {},
     "output_type": "execute_result"
    }
   ],
   "source": [
    "layerList=[]\n",
    "for i in range(2):\n",
    "    layerList.append(TransformerBlockPreNorm(128,8,1024))\n",
    "layerList\n",
    "#a=[TransformerBlockPreNorm(128,8,1024) for _ in range(2)]\n",
    "#a\n",
    "total_batches=tokens_train.shape[0]//seq_len\n",
    "t=tokens_train.reshape(total_batches,seq_len)\n",
    "t=t[:((t.shape[0]//5)*5),:]\n",
    "t.shape\n",
    "# t.shape\n",
    "\n",
    "#a==layerList"
   ]
  },
  {
   "cell_type": "code",
   "execution_count": 14,
   "metadata": {},
   "outputs": [],
   "source": [
    "class LanguageModel(Module):\n",
    "    \"\"\" Complete language model that runs:\n",
    "        - Embedding\n",
    "        - Positional Encoding\n",
    "        - Tranformer block layers\n",
    "        - Output linear layer\n",
    "    \"\"\"\n",
    "    def __init__(self, hidden_dim,seq_len,heads,ffn_dim,num_layers,vocab_size):\n",
    "        super().__init__()\n",
    "        self.hidden_dim = hidden_dim\n",
    "        self.embed= Embedding(vocab_size, hidden_dim)\n",
    "        self.position = PositionalEncoding(hidden_dim)\n",
    "        layerList=[]\n",
    "        for i in range(num_layers):\n",
    "            layerList.append(TransformerBlockPreNorm(hidden_dim,heads,ffn_dim))\n",
    "        self.layers=ModuleList(layerList)\n",
    "        self.norm=LayerNorm(hidden_dim)\n",
    "\n",
    "        self.last_layer=Linear(hidden_dim, vocab_size)\n",
    "\n",
    "    def forward(self,X):\n",
    "        B,T=X.shape[0],X.shape[1]\n",
    "        \n",
    "        X_hidden=torch.zeros(B,T,self.hidden_dim)\n",
    "        for i in range(B):\n",
    "            X_hidden[i] = self.embed(X[i])\n",
    "        \n",
    "        X_hidden = self.position(X_hidden)\n",
    "        \n",
    "\n",
    "        mask=torch.tril(torch.ones(T,T))\n",
    "        mask=mask.masked_fill(mask==0,float('-inf'))\n",
    "\n",
    "        for layer in self.layers:\n",
    "            X_hidden=layer(X_hidden,mask)\n",
    "        \n",
    "        #print((self.norm(X_hidden)).shape)\n",
    "        return self.last_layer(self.norm(X_hidden))\n",
    "\n",
    "        "
   ]
  },
  {
   "cell_type": "code",
   "execution_count": 15,
   "metadata": {},
   "outputs": [],
   "source": [
    "def epoch_transformer_lm(model, tokens, seq_len, opt=None, batch_size=5, verbose=True):\n",
    "    \"\"\" Run an epoch of the linear language model on the sequence of tokens.  \n",
    "    If opt = None then just compute the loss, otherwise update the parameters\n",
    "    using the optimizer.\n",
    "\n",
    "    Args:\n",
    "        model: torch.Module - PyTorch LanguageModel instance \n",
    "        tokens: torch.tensor (int64) - sequence of tokens to eval/train on\n",
    "        seq_len: sequence length to evaluate in Transformer blocks\n",
    "        batch_size: int - number of elements in minibatch\n",
    "        verbose: bool - flag if you want to print debug info\n",
    "\n",
    "    Returns:\n",
    "        losses: torch.tensor (float) - losses on each minibatch\n",
    "    \"\"\"\n",
    "    losses=[]\n",
    "    big_batch=seq_len*batch_size\n",
    "    num_batches=tokens.shape[0]//big_batch\n",
    "    for i in range(num_batches):\n",
    "        #print(set.shape,num_batches)\n",
    "        t=tokens[i*big_batch:(i+1)*big_batch]\n",
    "        t=t.reshape(batch_size,seq_len)\n",
    "        X=t[:,0:seq_len-1]\n",
    "        targets=t[:,1:seq_len]\n",
    "        H=model(X)\n",
    "        loss=F.cross_entropy(H.reshape(-1,H.size(-1)),targets.reshape(-1))\n",
    "        losses.append(loss)\n",
    "        if opt is not None:\n",
    "            loss.backward()\n",
    "            opt.step()\n",
    "            opt.zero_grad()\n",
    "        \n",
    "        if verbose and i%10==0:\n",
    "            print(f\"Batch {i+1}/{num_batches},Loss: {loss.item()}\")\n",
    "    return losses"
   ]
  },
  {
   "cell_type": "code",
   "execution_count": 60,
   "metadata": {},
   "outputs": [
    {
     "data": {
      "text/plain": [
       "796"
      ]
     },
     "execution_count": 60,
     "metadata": {},
     "output_type": "execute_result"
    }
   ],
   "source": [
    "tokens_train.shape[0]//(5*seq_len)"
   ]
  },
  {
   "cell_type": "code",
   "execution_count": 22,
   "metadata": {},
   "outputs": [
    {
     "data": {
      "text/plain": [
       "9892554"
      ]
     },
     "execution_count": 22,
     "metadata": {},
     "output_type": "execute_result"
    }
   ],
   "source": [
    "model = LanguageModel(128, seq_len, 8, 1024, 5, tokenizer.vocab_size)\n",
    "#opt = optim.Adam(model.parameters(), lr=1e-3)\n",
    "#print(model.parameters)\n",
    "#opt = SGD(model.parameters(), lr=0.5)\n",
    "opt= Adam(model.parameters(),lr=1e-3)\n",
    "sum(p.numel() for p in model.parameters())\n"
   ]
  },
  {
   "cell_type": "code",
   "execution_count": 25,
   "metadata": {},
   "outputs": [
    {
     "name": "stdout",
     "output_type": "stream",
     "text": [
      "torch.Size([5, 256, 32074])\n"
     ]
    }
   ],
   "source": [
    "model = LanguageModel(128, seq_len, 8, 1024, 5, tokenizer.vocab_size)\n",
    "batch_size=5\n",
    "X=tokens_train[:seq_len*batch_size]\n",
    "X=X.reshape(batch_size,seq_len)\n",
    "Y=model(X)\n",
    "print(Y.shape)\n"
   ]
  },
  {
   "cell_type": "code",
   "execution_count": 23,
   "metadata": {},
   "outputs": [
    {
     "name": "stdout",
     "output_type": "stream",
     "text": [
      "Batch 1/796,Loss: 11.292793273925781\n",
      "Batch 11/796,Loss: 7.695259094238281\n",
      "Batch 21/796,Loss: 7.049825191497803\n",
      "Batch 31/796,Loss: 6.132253646850586\n",
      "Batch 41/796,Loss: 6.0013275146484375\n",
      "Batch 51/796,Loss: 6.1434760093688965\n",
      "Batch 61/796,Loss: 5.806197166442871\n",
      "Batch 71/796,Loss: 5.356391906738281\n",
      "Batch 81/796,Loss: 5.721742630004883\n",
      "Batch 91/796,Loss: 6.06640625\n",
      "Batch 101/796,Loss: 5.481235504150391\n",
      "Batch 111/796,Loss: 5.843204498291016\n",
      "Batch 121/796,Loss: 5.444056034088135\n",
      "Batch 131/796,Loss: 5.747463226318359\n",
      "Batch 141/796,Loss: 5.682422161102295\n",
      "Batch 151/796,Loss: 5.179978370666504\n",
      "Batch 161/796,Loss: 5.528894424438477\n",
      "Batch 171/796,Loss: 5.773952484130859\n",
      "Batch 181/796,Loss: 5.507490634918213\n",
      "Batch 191/796,Loss: 5.693788528442383\n",
      "Batch 201/796,Loss: 5.335220813751221\n",
      "Batch 211/796,Loss: 6.349837779998779\n",
      "Batch 221/796,Loss: 5.510002613067627\n",
      "Batch 231/796,Loss: 5.3709001541137695\n",
      "Batch 241/796,Loss: 5.685588836669922\n",
      "Batch 251/796,Loss: 5.6994948387146\n",
      "Batch 261/796,Loss: 5.306807518005371\n",
      "Batch 271/796,Loss: 5.7744574546813965\n",
      "Batch 281/796,Loss: 5.2114949226379395\n",
      "Batch 291/796,Loss: 5.746370792388916\n",
      "Batch 301/796,Loss: 5.754624843597412\n",
      "Batch 311/796,Loss: 5.676157474517822\n",
      "Batch 321/796,Loss: 5.433732032775879\n",
      "Batch 331/796,Loss: 5.83473539352417\n",
      "Batch 341/796,Loss: 5.352210998535156\n",
      "Batch 351/796,Loss: 5.358848571777344\n",
      "Batch 361/796,Loss: 5.502872943878174\n",
      "Batch 371/796,Loss: 5.347208499908447\n",
      "Batch 381/796,Loss: 5.69273567199707\n",
      "Batch 391/796,Loss: 5.582757949829102\n",
      "Batch 401/796,Loss: 5.139667510986328\n",
      "Batch 411/796,Loss: 5.051480770111084\n",
      "Batch 421/796,Loss: 5.612835884094238\n",
      "Batch 431/796,Loss: 5.5151519775390625\n",
      "Batch 441/796,Loss: 5.048411846160889\n",
      "Batch 451/796,Loss: 5.497622966766357\n",
      "Batch 461/796,Loss: 5.3318328857421875\n",
      "Batch 471/796,Loss: 5.309558391571045\n",
      "Batch 481/796,Loss: 5.379361152648926\n",
      "Batch 491/796,Loss: 4.918392181396484\n",
      "Batch 501/796,Loss: 5.8303632736206055\n",
      "Batch 511/796,Loss: 5.356515407562256\n",
      "Batch 521/796,Loss: 5.285733222961426\n",
      "Batch 531/796,Loss: 5.472028732299805\n",
      "Batch 541/796,Loss: 5.492145538330078\n",
      "Batch 551/796,Loss: 5.035618782043457\n",
      "Batch 561/796,Loss: 5.542956829071045\n",
      "Batch 571/796,Loss: 5.291528701782227\n",
      "Batch 581/796,Loss: 5.5485334396362305\n",
      "Batch 591/796,Loss: 5.148191928863525\n",
      "Batch 601/796,Loss: 4.97477388381958\n",
      "Batch 611/796,Loss: 5.394052982330322\n",
      "Batch 621/796,Loss: 5.424659252166748\n",
      "Batch 631/796,Loss: 5.364990234375\n",
      "Batch 641/796,Loss: 5.176277160644531\n",
      "Batch 651/796,Loss: 4.828884124755859\n",
      "Batch 661/796,Loss: 5.2835588455200195\n",
      "Batch 671/796,Loss: 5.241563320159912\n",
      "Batch 681/796,Loss: 5.217411041259766\n",
      "Batch 691/796,Loss: 5.566653728485107\n",
      "Batch 701/796,Loss: 5.293068885803223\n",
      "Batch 711/796,Loss: 5.267760753631592\n",
      "Batch 721/796,Loss: 5.305523872375488\n",
      "Batch 731/796,Loss: 4.914979934692383\n",
      "Batch 741/796,Loss: 4.683924198150635\n",
      "Batch 751/796,Loss: 5.195972442626953\n",
      "Batch 761/796,Loss: 5.021152973175049\n",
      "Batch 771/796,Loss: 5.693607330322266\n",
      "Batch 781/796,Loss: 5.377592086791992\n",
      "Batch 791/796,Loss: 5.280445575714111\n",
      "Batch 1/341,Loss: 5.270760536193848\n",
      "Batch 11/341,Loss: 4.959742069244385\n",
      "Batch 21/341,Loss: 4.756196975708008\n",
      "Batch 31/341,Loss: 5.153693199157715\n",
      "Batch 41/341,Loss: 5.350997447967529\n",
      "Batch 51/341,Loss: 5.248477935791016\n",
      "Batch 61/341,Loss: 5.147157669067383\n",
      "Batch 71/341,Loss: 5.321280002593994\n",
      "Batch 81/341,Loss: 5.3166093826293945\n",
      "Batch 91/341,Loss: 5.488338470458984\n",
      "Batch 101/341,Loss: 5.824282169342041\n",
      "Batch 111/341,Loss: 5.448009014129639\n",
      "Batch 121/341,Loss: 5.476073265075684\n",
      "Batch 131/341,Loss: 5.509300708770752\n",
      "Batch 141/341,Loss: 5.36083459854126\n",
      "Batch 151/341,Loss: 5.512259483337402\n",
      "Batch 161/341,Loss: 5.38077449798584\n",
      "Batch 171/341,Loss: 5.729689121246338\n",
      "Batch 181/341,Loss: 5.4638872146606445\n",
      "Batch 191/341,Loss: 5.5629448890686035\n",
      "Batch 201/341,Loss: 5.154768466949463\n",
      "Batch 211/341,Loss: 5.423810958862305\n",
      "Batch 221/341,Loss: 5.431413173675537\n",
      "Batch 231/341,Loss: 5.433563709259033\n",
      "Batch 241/341,Loss: 5.005013465881348\n",
      "Batch 251/341,Loss: 4.729523181915283\n",
      "Batch 261/341,Loss: 5.170966625213623\n",
      "Batch 271/341,Loss: 5.255037307739258\n",
      "Batch 281/341,Loss: 5.240610599517822\n",
      "Batch 291/341,Loss: 5.4825615882873535\n",
      "Batch 301/341,Loss: 5.2900519371032715\n",
      "Batch 311/341,Loss: 5.714222431182861\n",
      "Batch 321/341,Loss: 6.352697849273682\n",
      "Batch 331/341,Loss: 6.429190635681152\n",
      "Batch 341/341,Loss: 8.502904891967773\n",
      "tensor(5.4536)\n"
     ]
    }
   ],
   "source": [
    "losses = epoch_transformer_lm(model, tokens_train, 256, opt=opt, batch_size=5, verbose=True)\n",
    "with torch.no_grad():\n",
    "    val_losses = epoch_transformer_lm(model, tokens_val, 256)\n",
    "print(torch.mean(torch.tensor(val_losses)))"
   ]
  },
  {
   "cell_type": "code",
   "execution_count": 26,
   "metadata": {},
   "outputs": [
    {
     "data": {
      "text/plain": [
       "[<matplotlib.lines.Line2D at 0x134769a10>]"
      ]
     },
     "execution_count": 26,
     "metadata": {},
     "output_type": "execute_result"
    },
    {
     "data": {
      "image/png": "[encoded data removed]",
      "text/plain": [
       "<Figure size 640x480 with 1 Axes>"
      ]
     },
     "metadata": {},
     "output_type": "display_data"
    }
   ],
   "source": [
    "plt.plot(np.arange(0,len(losses)*batch_size,batch_size),ema(torch.tensor(losses), beta=0.9))\n",
    "plt.plot(np.arange(0,len(val_losses)*batch_size,batch_size),ema(torch.tensor(val_losses), beta=0.9))"
   ]
  }
 ],
 "metadata": {
  "kernelspec": {
   "display_name": "15780",
   "language": "python",
   "name": "python3"
  },
  "language_info": {
   "codemirror_mode": {
    "name": "ipython",
    "version": 3
   },
   "file_extension": ".py",
   "mimetype": "text/x-python",
   "name": "python",
   "nbconvert_exporter": "python",
   "pygments_lexer": "ipython3",
   "version": "3.11.6"
  }
 },
 "nbformat": 4,
 "nbformat_minor": 2
}
